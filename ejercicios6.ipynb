{
 "metadata": {
  "language_info": {
   "codemirror_mode": {
    "name": "ipython",
    "version": 3
   },
   "file_extension": ".py",
   "mimetype": "text/x-python",
   "name": "python",
   "nbconvert_exporter": "python",
   "pygments_lexer": "ipython3",
   "version": "3.8.5-final"
  },
  "orig_nbformat": 2,
  "kernelspec": {
   "name": "python3",
   "display_name": "Python 3",
   "language": "python"
  }
 },
 "nbformat": 4,
 "nbformat_minor": 2,
 "cells": [
  {
   "source": [
    "Yael Mauricio Cano Palacio\n",
    "\n",
    "Ejercicios de la clase 6"
   ],
   "cell_type": "markdown",
   "metadata": {}
  },
  {
   "source": [
    "1. Hallar el mayor y menor en una lista de tamaño n."
   ],
   "cell_type": "markdown",
   "metadata": {}
  },
  {
   "cell_type": "code",
   "execution_count": 3,
   "metadata": {},
   "outputs": [
    {
     "output_type": "stream",
     "name": "stdout",
     "text": [
      "el numero mayor es:9 y el numero menor es:2\n"
     ]
    }
   ],
   "source": [
    "a=int (input(\"ingrese el tamaño de la lista\"))\n",
    "lista=[]\n",
    "for i in range(a):\n",
    "    b=int(input(\"ingrese los numero para la lista\"))\n",
    "    lista.append(b)\n",
    "for k in range(1,len(lista)):\n",
    "  for j in range(len(lista)-k):\n",
    "      if (lista[j]>lista[j+1]):\n",
    "        almacenamiento=lista[j]  \n",
    "        lista[j]=lista[j+1]      \n",
    "        lista[j+1]=almacenamiento\n",
    "\n",
    "\n",
    "mayor=lista[len(lista)-1]\n",
    "menor=lista[0]\n",
    "\n",
    "print(f\"el numero mayor es:{mayor} y el numero menor es:{menor}\")      \n",
    "\n"
   ]
  },
  {
   "source": [
    "2.Hacer un programa que pida dos número y almacene las cuatro operaciones matemáticas en una lista, debe hacer una función."
   ],
   "cell_type": "markdown",
   "metadata": {}
  },
  {
   "cell_type": "code",
   "execution_count": 7,
   "metadata": {},
   "outputs": [
    {
     "output_type": "stream",
     "name": "stdout",
     "text": [
      "\n",
      "    Que operacion quieres realizar?\n",
      "    1.suma\n",
      "    2.resta\n",
      "    3.multiplicacion\n",
      "    4.division\n",
      "    \n",
      "la resta de: 4 - 3 es 1\n",
      "\n",
      "    Que operacion quieres realizar?\n",
      "    1.suma\n",
      "    2.resta\n",
      "    3.multiplicacion\n",
      "    4.division\n",
      "    \n",
      "la division de: 3 / 5 es 0.6\n",
      "\n",
      "    Que operacion quieres realizar?\n",
      "    1.suma\n",
      "    2.resta\n",
      "    3.multiplicacion\n",
      "    4.division\n",
      "    \n",
      "la multiplicacion de: 2 * 2 es 4\n",
      "\n",
      "    Que operacion quieres realizar?\n",
      "    1.suma\n",
      "    2.resta\n",
      "    3.multiplicacion\n",
      "    4.division\n",
      "    \n",
      "la suman de: 2 + 1 es 3\n",
      "\n",
      "    Que operacion quieres realizar?\n",
      "    1.suma\n",
      "    2.resta\n",
      "    3.multiplicacion\n",
      "    4.division\n",
      "    \n",
      "la resta de: 5 - 6 es -1\n"
     ]
    }
   ],
   "source": [
    "lista=[]\n",
    "for x in range(5):\n",
    "    n1=int(input(\"ingrese un valor\"))\n",
    "    n2=int(input(\"ingrese un valor\"))\n",
    "    operaciones=0\n",
    "    print(\"\"\"\n",
    "    Que operacion quieres realizar?\n",
    "    1.suma\n",
    "    2.resta\n",
    "    3.multiplicacion\n",
    "    4.division\n",
    "    \"\"\")\n",
    "\n",
    "    operaciones=int(input(\"ingrese un numero\"))\n",
    "    if operaciones==1:\n",
    "        print(\"la suman de:\",n1,\"+\",n2,\"es\",n1+n2)\n",
    "    elif operaciones==2:\n",
    "        print(\"la resta de:\",n1,\"-\",n2,\"es\",n1-n2)\n",
    "    elif operaciones==3:\n",
    "        print(\"la multiplicacion de:\",n1,\"*\",n2,\"es\",n1*n2)\n",
    "    elif operaciones==4:\n",
    "        print(\"la division de:\",n1,\"/\",n2,\"es\",n1/n2)\n",
    "    else:\n",
    "        print(\"opcion incorreta\")\n"
   ]
  },
  {
   "source": [
    "3.Organizar una lista utilizando el método burbuja."
   ],
   "cell_type": "markdown",
   "metadata": {}
  },
  {
   "cell_type": "code",
   "execution_count": null,
   "metadata": {},
   "outputs": [],
   "source": [
    "cadena = input(\"Ingrese una cadena de texto: \").lower()\n",
    "cadena=cadena.split()\n",
    "for i in range(len(cadena)):\n",
    "    for j in range(len(cadena)-1-i):\n",
    "        if cadena[i]>cadena[j+1]:\n",
    "            aux=cadena[i]\n",
    "            cadena[i]=cadena[j+1]\n",
    "            cadena[j+1]=aux\\\n",
    "for i in range(len(cadena)):\n",
    "    print(cadena[i)"
   ]
  },
  {
   "source": [
    "4.Realizar un programa que permita ingresar por teclado los nombres de 5 artículos y sus precios, definir para ellos las siguientes funciones.\n",
    "\n",
    "Cargar los nombres de los artículos y sus precios.\n",
    "\n",
    "Imprimir cada artículo con sus datos.\n",
    "\n",
    "Imprimir el nombre del artículo más caro.\n",
    "\n",
    "Solicitar la carga de un importe por teclado, mostrar después todos los artículos con un precio inferior al insertado.\n",
    "\n",
    "return nom,precio retornar dos listas nombre,precio=cargar()"
   ],
   "cell_type": "markdown",
   "metadata": {}
  },
  {
   "cell_type": "code",
   "execution_count": null,
   "metadata": {},
   "outputs": [],
   "source": []
  },
  {
   "source": [
    "5. realiza un programa que permita crear un diccionario inglés / castellano. La clave es la palabra en inglés y el valor es la palabra en castellano. Crear funciones para cargar el diccionario, listar el diccionario. Crear una tercera función que solicite la carga por teclado de palabra en inglés, mostrar después el valor en castellano si este existe.\n",
    "\n"
   ],
   "cell_type": "markdown",
   "metadata": {}
  },
  {
   "cell_type": "code",
   "execution_count": 4,
   "metadata": {},
   "outputs": [
    {
     "output_type": "stream",
     "name": "stdout",
     "text": [
      "Listado completo del diccionario\n",
      "hello hola\n",
      "En castellano significa: hola\n"
     ]
    }
   ],
   "source": [
    "def cargar():\n",
    "    diccionario={}\n",
    "    continua=\"s\"\n",
    "    while continua==\"s\":\n",
    "        caste=input(\"Ingrese palabra en castellano:\")\n",
    "        ing=input(\"Ingrese palabra en ingles:\")\n",
    "        diccionario[ing]=caste\n",
    "        continua=input(\"Quiere cargar otra palabra:[s/n]\")\n",
    "    return diccionario\n",
    "\n",
    "\n",
    "def imprimir(diccionario):\n",
    "    print(\"Listado completo del diccionario\")\n",
    "    for ingles in diccionario:\n",
    "        print(ingles,diccionario[ingles])\n",
    "\n",
    "\n",
    "def consulta_palabra(diccionario):\n",
    "    pal=input(\"Ingrese la palabra en ingles a consultar:\")\n",
    "    if pal in diccionario:\n",
    "        print(\"En castellano significa:\",diccionario[pal])\n",
    "\n",
    "\n",
    "# bloque principal\n",
    "\n",
    "diccionario=cargar()\n",
    "imprimir(diccionario)\n",
    "consulta_palabra(diccionario)"
   ]
  },
  {
   "source": [
    "6.resuesta\n"
   ],
   "cell_type": "markdown",
   "metadata": {}
  },
  {
   "cell_type": "code",
   "execution_count": null,
   "metadata": {},
   "outputs": [],
   "source": [
    "def cargar():\n",
    "    personas={}\n",
    "    for x in range(4):\n",
    "        numero=int(input(\"Ingrese el numero de documento:\"))\n",
    "        nombre=input(\"Ingrese el nombre:\")\n",
    "        personas[numero]=nombre\n",
    "    return personas\n",
    "\n",
    "\n",
    "def imprimir(personas):\n",
    "    print(\"Listado del diccionario completo\")\n",
    "    for numero in personas:\n",
    "        print(numero, personas[numero])\n",
    "\n",
    "\n",
    "def consulta_por_numero(personas):\n",
    "    nro=int(input(\"Ingrese el numero de documento a consultar:\"))\n",
    "    if nro in personas:\n",
    "        print(\"Nombre de la persona:\",personas[nro])\n",
    "    else:\n",
    "        print(\"No existe una persona con dicho numero de documento\")\n",
    "\n",
    "\n",
    "# bloque principal\n",
    "\n",
    "personas=cargar()\n",
    "imprimir(personas)\n",
    "consulta_por_numero(personas)"
   ]
  }
 ]
}